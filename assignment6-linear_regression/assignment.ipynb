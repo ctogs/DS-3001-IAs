{
 "cells": [
  {
   "cell_type": "markdown",
   "id": "e0c7b14a-e5aa-4abc-b48b-b8a9d20dacac",
   "metadata": {},
   "source": [
    "# Assignment: Linear Models\n",
    "## Foundations of Machine Learning\n",
    "## Do Q1 and one other question"
   ]
  },
  {
   "cell_type": "markdown",
   "id": "25bf83c6-ff44-42d6-9b33-8be1b945860d",
   "metadata": {},
   "source": [
    "**Q1.** Load `./data/Q1_clean.csv`. The data include\n",
    "\n",
    "- `Price` per night\n",
    "- `Review Scores Rating`: The average rating for the property\n",
    "- `Neighbourhood `: The bourough of NYC. Note the space, or rename the variable.\n",
    "- `Property Type`: The kind of dwelling\n",
    "- `Room Type`: The kind of space being rented\n",
    "\n",
    "1. Compute the average prices and scores by `Neighbourhood `; which bourough is the most expensive on average? Create a kernel density plot of price and log price, grouping by `Neighbourhood `.\n",
    "2. Regress price on `Neighbourhood ` by creating the appropriate dummy/one-hot-encoded variables, without an intercept in the linear model and using all the data. Compare the coefficients in the regression to the table from part 1. What pattern do you see? What are the coefficients in a regression of a continuous variable on one categorical variable?\n",
    "3. Repeat part 2, but leave an intercept in the linear model. How do you have to handle the creation of the dummies differently? What is the intercept? Interpret the coefficients. How can I get the coefficients in part 2 from these new coefficients?\n",
    "4. Split the sample 80/20 into a training and a test set. Run a regression of `Price` on `Review Scores Rating` and `Neighbourhood `. What is the $R^2$ and RMSE on the test set? What is the coefficient on `Review Scores Rating`? What is the most expensive kind of property you can rent?\n",
    "5. Split the sample 80/20 into a training and a test set. Run a regression of `Price` on `Review Scores Rating` and `Neighbourhood ` and `Property Type`. What is the $R^2$ and RMSE on the test set? What is the coefficient on `Review Scores Rating`? What is the most expensive kind of property you can rent?\n",
    "6. What does the coefficient on `Review Scores Rating` mean if it changes from part 4 to 5? Hint: Think about how multilple linear regression works.\n",
    "7. (Optional) We've included `Neighborhood ` and `Property Type` separately in the model. How do you interact them, so you can have \"A bedroom in Queens\" or \"A townhouse in Manhattan\". Split the sample 80/20 into a training and a test set and run a regression including that kind of \"property type X neighborhood\" dummy, plus `Review Scores Rating`. How does the slope coefficient for `Review Scores Rating`, the $R^2$, and the RMSE change? Do they increase significantly compares to part 5? Are the coefficients in this regression just the sum of the coefficients for `Neighbourhood ` and `Property Type` from 5? What is the most expensive kind of property you can rent? "
   ]
  },
  {
   "cell_type": "code",
   "execution_count": 9,
   "id": "78424af3",
   "metadata": {},
   "outputs": [],
   "source": [
    "import seaborn as sns"
   ]
  },
  {
   "cell_type": "code",
   "execution_count": 1,
   "id": "e35d4cf6",
   "metadata": {},
   "outputs": [
    {
     "name": "stdout",
     "output_type": "stream",
     "text": [
      "(22153, 5) \n",
      "\n"
     ]
    },
    {
     "data": {
      "text/html": [
       "<div>\n",
       "<style scoped>\n",
       "    .dataframe tbody tr th:only-of-type {\n",
       "        vertical-align: middle;\n",
       "    }\n",
       "\n",
       "    .dataframe tbody tr th {\n",
       "        vertical-align: top;\n",
       "    }\n",
       "\n",
       "    .dataframe thead th {\n",
       "        text-align: right;\n",
       "    }\n",
       "</style>\n",
       "<table border=\"1\" class=\"dataframe\">\n",
       "  <thead>\n",
       "    <tr style=\"text-align: right;\">\n",
       "      <th></th>\n",
       "      <th>Price</th>\n",
       "      <th>Review Scores Rating</th>\n",
       "      <th>Neighbourhood</th>\n",
       "      <th>Property Type</th>\n",
       "      <th>Room Type</th>\n",
       "    </tr>\n",
       "  </thead>\n",
       "  <tbody>\n",
       "    <tr>\n",
       "      <th>0</th>\n",
       "      <td>549</td>\n",
       "      <td>96.0</td>\n",
       "      <td>Manhattan</td>\n",
       "      <td>Apartment</td>\n",
       "      <td>Private room</td>\n",
       "    </tr>\n",
       "    <tr>\n",
       "      <th>1</th>\n",
       "      <td>149</td>\n",
       "      <td>100.0</td>\n",
       "      <td>Brooklyn</td>\n",
       "      <td>Apartment</td>\n",
       "      <td>Entire home/apt</td>\n",
       "    </tr>\n",
       "    <tr>\n",
       "      <th>2</th>\n",
       "      <td>250</td>\n",
       "      <td>100.0</td>\n",
       "      <td>Manhattan</td>\n",
       "      <td>Apartment</td>\n",
       "      <td>Entire home/apt</td>\n",
       "    </tr>\n",
       "    <tr>\n",
       "      <th>3</th>\n",
       "      <td>90</td>\n",
       "      <td>94.0</td>\n",
       "      <td>Brooklyn</td>\n",
       "      <td>Apartment</td>\n",
       "      <td>Private room</td>\n",
       "    </tr>\n",
       "    <tr>\n",
       "      <th>4</th>\n",
       "      <td>270</td>\n",
       "      <td>90.0</td>\n",
       "      <td>Manhattan</td>\n",
       "      <td>Apartment</td>\n",
       "      <td>Entire home/apt</td>\n",
       "    </tr>\n",
       "  </tbody>\n",
       "</table>\n",
       "</div>"
      ],
      "text/plain": [
       "   Price  Review Scores Rating Neighbourhood  Property Type        Room Type\n",
       "0    549                  96.0      Manhattan     Apartment     Private room\n",
       "1    149                 100.0       Brooklyn     Apartment  Entire home/apt\n",
       "2    250                 100.0      Manhattan     Apartment  Entire home/apt\n",
       "3     90                  94.0       Brooklyn     Apartment     Private room\n",
       "4    270                  90.0      Manhattan     Apartment  Entire home/apt"
      ]
     },
     "execution_count": 1,
     "metadata": {},
     "output_type": "execute_result"
    }
   ],
   "source": [
    "import pandas as pd\n",
    "import numpy as np\n",
    "\n",
    "# 1. Compute the average prices and scores by `Neighbourhood `; which bourough is the most expensive on average? Create a kernel density plot of price and log price, grouping by `Neighbourhood `.\n",
    "df = pd.read_csv('./data/Q1_clean.csv')\n",
    "print(df.shape, '\\n')\n",
    "df.head()"
   ]
  },
  {
   "cell_type": "code",
   "execution_count": 8,
   "id": "6f24b076",
   "metadata": {},
   "outputs": [
    {
     "data": {
      "text/html": [
       "<div>\n",
       "<style scoped>\n",
       "    .dataframe tbody tr th:only-of-type {\n",
       "        vertical-align: middle;\n",
       "    }\n",
       "\n",
       "    .dataframe tbody tr th {\n",
       "        vertical-align: top;\n",
       "    }\n",
       "\n",
       "    .dataframe thead th {\n",
       "        text-align: right;\n",
       "    }\n",
       "</style>\n",
       "<table border=\"1\" class=\"dataframe\">\n",
       "  <thead>\n",
       "    <tr style=\"text-align: right;\">\n",
       "      <th></th>\n",
       "      <th>count</th>\n",
       "      <th>mean</th>\n",
       "      <th>std</th>\n",
       "      <th>min</th>\n",
       "      <th>25%</th>\n",
       "      <th>50%</th>\n",
       "      <th>75%</th>\n",
       "      <th>max</th>\n",
       "    </tr>\n",
       "    <tr>\n",
       "      <th>neighbourhood</th>\n",
       "      <th></th>\n",
       "      <th></th>\n",
       "      <th></th>\n",
       "      <th></th>\n",
       "      <th></th>\n",
       "      <th></th>\n",
       "      <th></th>\n",
       "      <th></th>\n",
       "    </tr>\n",
       "  </thead>\n",
       "  <tbody>\n",
       "    <tr>\n",
       "      <th>Bronx</th>\n",
       "      <td>217.0</td>\n",
       "      <td>75.276498</td>\n",
       "      <td>39.755468</td>\n",
       "      <td>10.0</td>\n",
       "      <td>50.00</td>\n",
       "      <td>60.0</td>\n",
       "      <td>90.0</td>\n",
       "      <td>244.0</td>\n",
       "    </tr>\n",
       "    <tr>\n",
       "      <th>Brooklyn</th>\n",
       "      <td>8487.0</td>\n",
       "      <td>127.747378</td>\n",
       "      <td>106.038466</td>\n",
       "      <td>20.0</td>\n",
       "      <td>75.00</td>\n",
       "      <td>100.0</td>\n",
       "      <td>150.0</td>\n",
       "      <td>4500.0</td>\n",
       "    </tr>\n",
       "    <tr>\n",
       "      <th>Manhattan</th>\n",
       "      <td>11763.0</td>\n",
       "      <td>183.664286</td>\n",
       "      <td>170.434606</td>\n",
       "      <td>25.0</td>\n",
       "      <td>103.00</td>\n",
       "      <td>150.0</td>\n",
       "      <td>214.0</td>\n",
       "      <td>10000.0</td>\n",
       "    </tr>\n",
       "    <tr>\n",
       "      <th>Queens</th>\n",
       "      <td>1590.0</td>\n",
       "      <td>96.857233</td>\n",
       "      <td>61.712648</td>\n",
       "      <td>25.0</td>\n",
       "      <td>60.00</td>\n",
       "      <td>80.0</td>\n",
       "      <td>115.0</td>\n",
       "      <td>950.0</td>\n",
       "    </tr>\n",
       "    <tr>\n",
       "      <th>Staten Island</th>\n",
       "      <td>96.0</td>\n",
       "      <td>146.166667</td>\n",
       "      <td>508.462029</td>\n",
       "      <td>35.0</td>\n",
       "      <td>54.75</td>\n",
       "      <td>71.0</td>\n",
       "      <td>99.0</td>\n",
       "      <td>5000.0</td>\n",
       "    </tr>\n",
       "  </tbody>\n",
       "</table>\n",
       "</div>"
      ],
      "text/plain": [
       "                 count        mean         std   min     25%    50%    75%  \\\n",
       "neighbourhood                                                                \n",
       "Bronx            217.0   75.276498   39.755468  10.0   50.00   60.0   90.0   \n",
       "Brooklyn        8487.0  127.747378  106.038466  20.0   75.00  100.0  150.0   \n",
       "Manhattan      11763.0  183.664286  170.434606  25.0  103.00  150.0  214.0   \n",
       "Queens          1590.0   96.857233   61.712648  25.0   60.00   80.0  115.0   \n",
       "Staten Island     96.0  146.166667  508.462029  35.0   54.75   71.0   99.0   \n",
       "\n",
       "                   max  \n",
       "neighbourhood           \n",
       "Bronx            244.0  \n",
       "Brooklyn        4500.0  \n",
       "Manhattan      10000.0  \n",
       "Queens           950.0  \n",
       "Staten Island   5000.0  "
      ]
     },
     "execution_count": 8,
     "metadata": {},
     "output_type": "execute_result"
    }
   ],
   "source": [
    "df['neighbourhood'] = df['Neighbourhood ']\n",
    "nbhood = df['neighbourhood']\n",
    "df['Price'].groupby(nbhood).describe()"
   ]
  },
  {
   "cell_type": "markdown",
   "id": "a3a1c380",
   "metadata": {},
   "source": [
    "> Manhattan is the most expensive neighborhood on average, with a mean of $183.66 per night"
   ]
  },
  {
   "cell_type": "code",
   "execution_count": 12,
   "id": "2cec68c4",
   "metadata": {},
   "outputs": [
    {
     "data": {
      "text/plain": [
       "<Axes: xlabel='Price', ylabel='Density'>"
      ]
     },
     "execution_count": 12,
     "metadata": {},
     "output_type": "execute_result"
    },
    {
     "data": {
      "image/png": "[encoded data removed]",
      "text/plain": [
       "<Figure size 640x480 with 1 Axes>"
      ]
     },
     "metadata": {},
     "output_type": "display_data"
    }
   ],
   "source": [
    "sns.kdeplot(x=df['Price'], hue=df['neighbourhood'])"
   ]
  },
  {
   "cell_type": "code",
   "execution_count": 13,
   "id": "c8c67c72",
   "metadata": {},
   "outputs": [
    {
     "data": {
      "text/plain": [
       "<Axes: xlabel='Price', ylabel='Density'>"
      ]
     },
     "execution_count": 13,
     "metadata": {},
     "output_type": "execute_result"
    },
    {
     "data": {
      "image/png": "[encoded data removed]",
      "text/plain": [
       "<Figure size 640x480 with 1 Axes>"
      ]
     },
     "metadata": {},
     "output_type": "display_data"
    }
   ],
   "source": [
    "sns.kdeplot(x=np.log(df['Price']), hue=df['neighbourhood'])"
   ]
  },
  {
   "cell_type": "markdown",
   "id": "c0feb538",
   "metadata": {},
   "source": [
    "> We see that Manhattan has a higher peak density at a higher price compared to the rest of the borough."
   ]
  },
  {
   "cell_type": "code",
   "execution_count": 17,
   "id": "61cf67ab",
   "metadata": {},
   "outputs": [
    {
     "data": {
      "text/html": [
       "<div>\n",
       "<style scoped>\n",
       "    .dataframe tbody tr th:only-of-type {\n",
       "        vertical-align: middle;\n",
       "    }\n",
       "\n",
       "    .dataframe tbody tr th {\n",
       "        vertical-align: top;\n",
       "    }\n",
       "\n",
       "    .dataframe thead th {\n",
       "        text-align: right;\n",
       "    }\n",
       "</style>\n",
       "<table border=\"1\" class=\"dataframe\">\n",
       "  <thead>\n",
       "    <tr style=\"text-align: right;\">\n",
       "      <th></th>\n",
       "      <th>Neighborhood</th>\n",
       "      <th>Coefficient</th>\n",
       "    </tr>\n",
       "  </thead>\n",
       "  <tbody>\n",
       "    <tr>\n",
       "      <th>0</th>\n",
       "      <td>Bronx</td>\n",
       "      <td>75.276498</td>\n",
       "    </tr>\n",
       "    <tr>\n",
       "      <th>1</th>\n",
       "      <td>Brooklyn</td>\n",
       "      <td>127.747378</td>\n",
       "    </tr>\n",
       "    <tr>\n",
       "      <th>2</th>\n",
       "      <td>Manhattan</td>\n",
       "      <td>183.664286</td>\n",
       "    </tr>\n",
       "    <tr>\n",
       "      <th>3</th>\n",
       "      <td>Queens</td>\n",
       "      <td>96.857233</td>\n",
       "    </tr>\n",
       "    <tr>\n",
       "      <th>4</th>\n",
       "      <td>Staten Island</td>\n",
       "      <td>146.166667</td>\n",
       "    </tr>\n",
       "  </tbody>\n",
       "</table>\n",
       "</div>"
      ],
      "text/plain": [
       "    Neighborhood  Coefficient\n",
       "0          Bronx    75.276498\n",
       "1       Brooklyn   127.747378\n",
       "2      Manhattan   183.664286\n",
       "3         Queens    96.857233\n",
       "4  Staten Island   146.166667"
      ]
     },
     "execution_count": 17,
     "metadata": {},
     "output_type": "execute_result"
    }
   ],
   "source": [
    "# 2. Regress price on `Neighbourhood ` by creating the appropriate dummy/one-hot-encoded variables, without an intercept in the linear model and using all the data. Compare the coefficients in the regression to the table from part 1. What pattern do you see? What are the coefficients in a regression of a continuous variable on one categorical variable?\n",
    "from sklearn.linear_model import LinearRegression\n",
    "\n",
    "lr = LinearRegression(fit_intercept=False).fit(pd.get_dummies(df['Neighbourhood '], dtype='int') ,df['Price'])\n",
    "table = pd.DataFrame({'Neighborhood': lr.feature_names_in_, 'Coefficient': lr.coef_})\n",
    "table\n"
   ]
  },
  {
   "cell_type": "markdown",
   "id": "421b3723",
   "metadata": {},
   "source": [
    "> The coefficients in the table above are identical to the means of the neighborhoods. The coefficients in a regression of a continuous variable on one categorical variable are the mean."
   ]
  },
  {
   "cell_type": "code",
   "execution_count": 23,
   "id": "d9f1c78e",
   "metadata": {},
   "outputs": [
    {
     "name": "stdout",
     "output_type": "stream",
     "text": [
      "75.27649769584977\n"
     ]
    },
    {
     "data": {
      "text/html": [
       "<div>\n",
       "<style scoped>\n",
       "    .dataframe tbody tr th:only-of-type {\n",
       "        vertical-align: middle;\n",
       "    }\n",
       "\n",
       "    .dataframe tbody tr th {\n",
       "        vertical-align: top;\n",
       "    }\n",
       "\n",
       "    .dataframe thead th {\n",
       "        text-align: right;\n",
       "    }\n",
       "</style>\n",
       "<table border=\"1\" class=\"dataframe\">\n",
       "  <thead>\n",
       "    <tr style=\"text-align: right;\">\n",
       "      <th></th>\n",
       "      <th>Neighborhood</th>\n",
       "      <th>Coefficient</th>\n",
       "    </tr>\n",
       "  </thead>\n",
       "  <tbody>\n",
       "    <tr>\n",
       "      <th>0</th>\n",
       "      <td>Brooklyn</td>\n",
       "      <td>52.470881</td>\n",
       "    </tr>\n",
       "    <tr>\n",
       "      <th>1</th>\n",
       "      <td>Manhattan</td>\n",
       "      <td>108.387789</td>\n",
       "    </tr>\n",
       "    <tr>\n",
       "      <th>2</th>\n",
       "      <td>Queens</td>\n",
       "      <td>21.580735</td>\n",
       "    </tr>\n",
       "    <tr>\n",
       "      <th>3</th>\n",
       "      <td>Staten Island</td>\n",
       "      <td>70.890169</td>\n",
       "    </tr>\n",
       "  </tbody>\n",
       "</table>\n",
       "</div>"
      ],
      "text/plain": [
       "    Neighborhood  Coefficient\n",
       "0       Brooklyn    52.470881\n",
       "1      Manhattan   108.387789\n",
       "2         Queens    21.580735\n",
       "3  Staten Island    70.890169"
      ]
     },
     "execution_count": 23,
     "metadata": {},
     "output_type": "execute_result"
    }
   ],
   "source": [
    "# 3. Repeat part 2, but leave an intercept in the linear model. How do you have to handle the creation of the dummies differently? What is the intercept? Interpret the coefficients. How can I get the coefficients in part 2 from these new coefficients?\n",
    "lri = LinearRegression().fit(pd.get_dummies(df['Neighbourhood '], dtype='int', drop_first=True) ,df['Price'])\n",
    "table_lri = pd.DataFrame({'Neighborhood': lri.feature_names_in_, 'Coefficient': lri.coef_})\n",
    "print(lri.intercept_)\n",
    "table_lri"
   ]
  },
  {
   "cell_type": "markdown",
   "id": "0ca4e456",
   "metadata": {},
   "source": [
    "> After dropping Bronx, the intercept is identical to the grouped mean of Bronx. The coefficients of the other variables are their old coefficients minus the intercept."
   ]
  },
  {
   "cell_type": "code",
   "execution_count": 33,
   "id": "b4e76a0d",
   "metadata": {},
   "outputs": [
    {
     "name": "stdout",
     "output_type": "stream",
     "text": [
      "R^2 on the test set: 0.06701086106947296\n",
      "RMSE on the test set: 125.01092061382933\n",
      "Coefficient for 'Review Scores Rating': 1.0322568767213829\n",
      "The most expensive kind of property you can rent is: 192.64670789973687, a 100 rated place in Manhattan\n"
     ]
    }
   ],
   "source": [
    "# 4. Split the sample 80/20 into a training and a test set. Run a regression of `Price` on `Review Scores Rating` and `Neighbourhood `. What is the $R^2$ and RMSE on the test set? What is the coefficient on `Review Scores Rating`? What is the most expensive kind of property you can rent?\n",
    "from sklearn.model_selection import train_test_split\n",
    "from sklearn.metrics import r2_score, mean_squared_error\n",
    "\n",
    "y = df['Price']\n",
    "X = df.loc[:,['Review Scores Rating', 'Neighbourhood ']]\n",
    "X_train, X_test, y_train, y_test = train_test_split(X, y, test_size=.2, random_state=100)\n",
    "\n",
    "lr_train = pd.concat([X_train['Review Scores Rating'], pd.get_dummies(X_train['Neighbourhood '], dtype='int')], axis = 1)\n",
    "lr_test = pd.concat([X_test['Review Scores Rating'], pd.get_dummies(X_test['Neighbourhood '], dtype='int')], axis = 1)\n",
    "\n",
    "regression = LinearRegression(fit_intercept=False).fit(lr_train, y_train)\n",
    "\n",
    "y_pred = regression.predict(lr_test)\n",
    "\n",
    "r2 = r2_score(y_test, y_pred)\n",
    "rmse = np.sqrt(mean_squared_error(y_test, y_pred))\n",
    "\n",
    "coef_review_scores_rating = regression.coef_[0]\n",
    "\n",
    "print(f\"R^2 on the test set: {r2}\")\n",
    "print(f\"RMSE on the test set: {rmse}\")\n",
    "print(f\"Coefficient for 'Review Scores Rating': {coef_review_scores_rating}\")\n",
    "print(f\"The most expensive kind of property you can rent is: {coef_review_scores_rating * 100 + max(regression.coef_)}, a 100 rated place in Manhattan\")\n"
   ]
  },
  {
   "cell_type": "code",
   "execution_count": 50,
   "id": "33c13d63",
   "metadata": {},
   "outputs": [
    {
     "name": "stdout",
     "output_type": "stream",
     "text": [
      "R^2 on the test set: 0.2203534812928234\n",
      "RMSE on the test set: 114.27692123130632\n",
      "Coefficient for 'Review Scores Rating': 0.6269122705801646\n",
      "The most expensive kind of property you can rent is: $227.00235089994283\n"
     ]
    },
    {
     "data": {
      "text/html": [
       "<div>\n",
       "<style scoped>\n",
       "    .dataframe tbody tr th:only-of-type {\n",
       "        vertical-align: middle;\n",
       "    }\n",
       "\n",
       "    .dataframe tbody tr th {\n",
       "        vertical-align: top;\n",
       "    }\n",
       "\n",
       "    .dataframe thead th {\n",
       "        text-align: right;\n",
       "    }\n",
       "</style>\n",
       "<table border=\"1\" class=\"dataframe\">\n",
       "  <thead>\n",
       "    <tr style=\"text-align: right;\">\n",
       "      <th></th>\n",
       "      <th>variable</th>\n",
       "      <th>coefficient</th>\n",
       "    </tr>\n",
       "  </thead>\n",
       "  <tbody>\n",
       "    <tr>\n",
       "      <th>0</th>\n",
       "      <td>Review Scores Rating</td>\n",
       "      <td>0.626912</td>\n",
       "    </tr>\n",
       "    <tr>\n",
       "      <th>1</th>\n",
       "      <td>Bronx</td>\n",
       "      <td>-13.022765</td>\n",
       "    </tr>\n",
       "    <tr>\n",
       "      <th>2</th>\n",
       "      <td>Brooklyn</td>\n",
       "      <td>10.378456</td>\n",
       "    </tr>\n",
       "    <tr>\n",
       "      <th>3</th>\n",
       "      <td>Manhattan</td>\n",
       "      <td>53.693304</td>\n",
       "    </tr>\n",
       "    <tr>\n",
       "      <th>4</th>\n",
       "      <td>Queens</td>\n",
       "      <td>-6.833330</td>\n",
       "    </tr>\n",
       "    <tr>\n",
       "      <th>5</th>\n",
       "      <td>Staten Island</td>\n",
       "      <td>50.003022</td>\n",
       "    </tr>\n",
       "    <tr>\n",
       "      <th>6</th>\n",
       "      <td>Entire home/apt</td>\n",
       "      <td>110.617820</td>\n",
       "    </tr>\n",
       "    <tr>\n",
       "      <th>7</th>\n",
       "      <td>Private room</td>\n",
       "      <td>3.101341</td>\n",
       "    </tr>\n",
       "    <tr>\n",
       "      <th>8</th>\n",
       "      <td>Shared room</td>\n",
       "      <td>-19.500474</td>\n",
       "    </tr>\n",
       "  </tbody>\n",
       "</table>\n",
       "</div>"
      ],
      "text/plain": [
       "               variable  coefficient\n",
       "0  Review Scores Rating     0.626912\n",
       "1                 Bronx   -13.022765\n",
       "2              Brooklyn    10.378456\n",
       "3             Manhattan    53.693304\n",
       "4                Queens    -6.833330\n",
       "5         Staten Island    50.003022\n",
       "6       Entire home/apt   110.617820\n",
       "7          Private room     3.101341\n",
       "8           Shared room   -19.500474"
      ]
     },
     "execution_count": 50,
     "metadata": {},
     "output_type": "execute_result"
    }
   ],
   "source": [
    "# 5. Split the sample 80/20 into a training and a test set. Run a regression of `Price` on `Review Scores Rating` and `Neighbourhood ` and `Property Type`. What is the $R^2$ and RMSE on the test set? What is the coefficient on `Review Scores Rating`? What is the most expensive kind of property you can rent?\n",
    "y = df['Price']\n",
    "X = df.loc[:,['Review Scores Rating', 'Neighbourhood ', 'Room Type']]\n",
    "X_train, X_test, y_train, y_test = train_test_split(X, y, test_size=.2, random_state=100)\n",
    "\n",
    "lr_train = pd.concat([X_train['Review Scores Rating'], pd.get_dummies(X_train['Neighbourhood '], dtype='int'), pd.get_dummies(X_train['Room Type'], dtype='int')], axis = 1)\n",
    "lr_test = pd.concat([X_test['Review Scores Rating'], pd.get_dummies(X_test['Neighbourhood '], dtype='int'), pd.get_dummies(X_test['Room Type'], dtype='int')], axis = 1)\n",
    "\n",
    "regression = LinearRegression(fit_intercept=False).fit(lr_train, y_train)\n",
    "\n",
    "y_pred = regression.predict(lr_test)\n",
    "r2 = r2_score(y_test, y_pred)\n",
    "rmse = np.sqrt(mean_squared_error(y_test, y_pred))\n",
    "coef_review_scores_rating = regression.coef_[0]\n",
    "\n",
    "print(f\"R^2 on the test set: {r2}\")\n",
    "print(f\"RMSE on the test set: {rmse}\")\n",
    "print(f\"Coefficient for 'Review Scores Rating': {coef_review_scores_rating}\")\n",
    "print(f\"The most expensive kind of property you can rent is: ${coef_review_scores_rating * 100 + max(regression.coef_) + regression.coef_[3]}\")\n",
    "\n",
    "\n",
    "results = pd.DataFrame({'variable':regression.feature_names_in_, 'coefficient': regression.coef_}) # Regression coefficients\n",
    "results"
   ]
  },
  {
   "cell_type": "markdown",
   "id": "497b6f8c",
   "metadata": {},
   "source": [
    "6. What does the coefficient on `Review Scores Rating` mean if it changes from part 4 to 5? Hint: Think about how multilple linear regression works.\n",
    "\n",
    "The Review Scores Rating coefficient changed because we included the additional variable of Room Type in our model for part 5. This inclusion changed how we calculated the coefficient for Review Scores Rating, thus changing its coefficient. Room Type has some effect on the rating of the room, which we see in those difference in statistical values between part 4 and 5. The $r^2$ value also increased in part 5, meaning that adding the Room Type variable resulted in more of the variation being explained by our model."
   ]
  },
  {
   "cell_type": "markdown",
   "id": "95f22300-0180-4ed2-be8f-ed56cf4cd36b",
   "metadata": {},
   "source": [
    "**Q2.** This question is a case study for linear models. The data are about car prices. In particular, they include:\n",
    "\n",
    "  - `Price`, `Color`, `Seating_Capacity`\n",
    "  - `Body_Type`: crossover, hatchback, muv, sedan, suv \n",
    "  - `Make`, `Make_Year`: The brand of car and year produced\n",
    "  - `Mileage_Run`: The number of miles on the odometer\n",
    "  - `Fuel_Type`: Diesel or gasoline/petrol\n",
    "  - `Transmission`, `Transmission_Type`:  speeds and automatic/manual\n",
    "\n",
    "  1. Load `cars_hw.csv`. These data were really dirty, and I've already cleaned them a significant amount in terms of missing values and other issues, but some issues remain (e.g. outliers, badly scaled variables that require a log or arcsinh transformation). Clean the data however you think is most appropriate.\n",
    "  2. Summarize the `Price` variable and create a kernel density plot. Use `.groupby()` and `.describe()` to summarize prices by brand (`Make`). Make a grouped kernel density plot by `Make`. Which car brands are the most expensive? What do prices look like in general?\n",
    "  3. Split the data into an 80% training set and a 20% testing set.\n",
    "  4. Make a model where you regress price on the numeric variables alone; what is the $R^2$ and `RMSE` on the training set and test set? Make a second model where, for the categorical variables, you regress price on a model comprised of one-hot encoded regressors/features alone (you can use `pd.get_dummies()`; be careful of the dummy variable trap); what is the $R^2$ and `RMSE` on the test set? Which model performs better on the test set? Make a third model that combines all the regressors from the previous two; what is the $R^2$ and `RMSE` on the test set? Does the joint model perform better or worse, and by home much?\n",
    "  5. Use the `PolynomialFeatures` function from `sklearn` to expand the set of numerical variables you're using in the regression. As you increase the degree of the expansion, how do the $R^2$ and `RMSE` change? At what point does $R^2$ go negative on the test set? For your best model with expanded features, what is the $R^2$ and `RMSE`? How does it compare to your best model from part 4?\n",
    "  6. For your best model so far, determine the predicted values for the test data and plot them against the true values. Do the predicted values and true values roughly line up along the diagonal, or not? Compute the residuals/errors for the test data and create a kernel density plot. Do the residuals look roughly bell-shaped around zero? Evaluate the strengths and weaknesses of your model."
   ]
  },
  {
   "cell_type": "code",
   "execution_count": 51,
   "id": "defbda90",
   "metadata": {},
   "outputs": [
    {
     "name": "stdout",
     "output_type": "stream",
     "text": [
      "(976, 12) \n",
      "\n"
     ]
    },
    {
     "data": {
      "text/html": [
       "<div>\n",
       "<style scoped>\n",
       "    .dataframe tbody tr th:only-of-type {\n",
       "        vertical-align: middle;\n",
       "    }\n",
       "\n",
       "    .dataframe tbody tr th {\n",
       "        vertical-align: top;\n",
       "    }\n",
       "\n",
       "    .dataframe thead th {\n",
       "        text-align: right;\n",
       "    }\n",
       "</style>\n",
       "<table border=\"1\" class=\"dataframe\">\n",
       "  <thead>\n",
       "    <tr style=\"text-align: right;\">\n",
       "      <th></th>\n",
       "      <th>Unnamed: 0</th>\n",
       "      <th>Make</th>\n",
       "      <th>Make_Year</th>\n",
       "      <th>Color</th>\n",
       "      <th>Body_Type</th>\n",
       "      <th>Mileage_Run</th>\n",
       "      <th>No_of_Owners</th>\n",
       "      <th>Seating_Capacity</th>\n",
       "      <th>Fuel_Type</th>\n",
       "      <th>Transmission</th>\n",
       "      <th>Transmission_Type</th>\n",
       "      <th>Price</th>\n",
       "    </tr>\n",
       "  </thead>\n",
       "  <tbody>\n",
       "    <tr>\n",
       "      <th>0</th>\n",
       "      <td>1</td>\n",
       "      <td>Volkswagen</td>\n",
       "      <td>2017</td>\n",
       "      <td>silver</td>\n",
       "      <td>sedan</td>\n",
       "      <td>44611</td>\n",
       "      <td>1st</td>\n",
       "      <td>5</td>\n",
       "      <td>diesel</td>\n",
       "      <td>7-Speed</td>\n",
       "      <td>Automatic</td>\n",
       "      <td>657000</td>\n",
       "    </tr>\n",
       "    <tr>\n",
       "      <th>1</th>\n",
       "      <td>2</td>\n",
       "      <td>Hyundai</td>\n",
       "      <td>2016</td>\n",
       "      <td>red</td>\n",
       "      <td>crossover</td>\n",
       "      <td>20305</td>\n",
       "      <td>1st</td>\n",
       "      <td>5</td>\n",
       "      <td>petrol</td>\n",
       "      <td>5-Speed</td>\n",
       "      <td>Manual</td>\n",
       "      <td>682000</td>\n",
       "    </tr>\n",
       "    <tr>\n",
       "      <th>2</th>\n",
       "      <td>3</td>\n",
       "      <td>Honda</td>\n",
       "      <td>2019</td>\n",
       "      <td>white</td>\n",
       "      <td>suv</td>\n",
       "      <td>29540</td>\n",
       "      <td>2nd</td>\n",
       "      <td>5</td>\n",
       "      <td>petrol</td>\n",
       "      <td>5-Speed</td>\n",
       "      <td>Manual</td>\n",
       "      <td>793000</td>\n",
       "    </tr>\n",
       "    <tr>\n",
       "      <th>3</th>\n",
       "      <td>4</td>\n",
       "      <td>Renault</td>\n",
       "      <td>2017</td>\n",
       "      <td>bronze</td>\n",
       "      <td>hatchback</td>\n",
       "      <td>35680</td>\n",
       "      <td>1st</td>\n",
       "      <td>5</td>\n",
       "      <td>petrol</td>\n",
       "      <td>5-Speed</td>\n",
       "      <td>Manual</td>\n",
       "      <td>414000</td>\n",
       "    </tr>\n",
       "    <tr>\n",
       "      <th>4</th>\n",
       "      <td>5</td>\n",
       "      <td>Hyundai</td>\n",
       "      <td>2017</td>\n",
       "      <td>orange</td>\n",
       "      <td>hatchback</td>\n",
       "      <td>25126</td>\n",
       "      <td>1st</td>\n",
       "      <td>5</td>\n",
       "      <td>petrol</td>\n",
       "      <td>5-Speed</td>\n",
       "      <td>Manual</td>\n",
       "      <td>515000</td>\n",
       "    </tr>\n",
       "  </tbody>\n",
       "</table>\n",
       "</div>"
      ],
      "text/plain": [
       "   Unnamed: 0        Make  Make_Year   Color  Body_Type  Mileage_Run  \\\n",
       "0           1  Volkswagen       2017  silver      sedan        44611   \n",
       "1           2     Hyundai       2016     red  crossover        20305   \n",
       "2           3       Honda       2019   white        suv        29540   \n",
       "3           4     Renault       2017  bronze  hatchback        35680   \n",
       "4           5     Hyundai       2017  orange  hatchback        25126   \n",
       "\n",
       "  No_of_Owners  Seating_Capacity Fuel_Type Transmission Transmission_Type  \\\n",
       "0          1st                 5    diesel      7-Speed         Automatic   \n",
       "1          1st                 5    petrol      5-Speed            Manual   \n",
       "2          2nd                 5    petrol      5-Speed            Manual   \n",
       "3          1st                 5    petrol      5-Speed            Manual   \n",
       "4          1st                 5    petrol      5-Speed            Manual   \n",
       "\n",
       "    Price  \n",
       "0  657000  \n",
       "1  682000  \n",
       "2  793000  \n",
       "3  414000  \n",
       "4  515000  "
      ]
     },
     "execution_count": 51,
     "metadata": {},
     "output_type": "execute_result"
    }
   ],
   "source": [
    "# 1. Load `cars_hw.csv`. These data were really dirty, and I've already cleaned them a significant amount in terms of missing values and other issues, but some issues remain (e.g. outliers, badly scaled variables that require a log or arcsinh transformation). Clean the data however you think is most appropriate.\n",
    "df = pd.read_csv('./data/cars_hw.csv')\n",
    "print(df.shape, '\\n')\n",
    "df.head()"
   ]
  },
  {
   "cell_type": "code",
   "execution_count": 56,
   "id": "cc1951b8",
   "metadata": {},
   "outputs": [
    {
     "name": "stdout",
     "output_type": "stream",
     "text": [
      "Min mileage run value: 1117. Max value: 99495\n"
     ]
    }
   ],
   "source": [
    "print(f\"Min mileage run value: {min(df['Mileage_Run'].values)}. Max value: {max(df['Mileage_Run'].values)}\")\n",
    "# The difference between min and max is pretty big, indicating some bad scaling.\n"
   ]
  },
  {
   "cell_type": "markdown",
   "id": "7bd15c6b-4c7c-4230-a199-e03e1054ec6a",
   "metadata": {},
   "source": [
    "**Q3.** This is a question about linear regression. The outcome is whether a defendant is held pre-trial in the Virginia justice system. We would like to understand how that outcome is predicted by characteristics of the defendant, particularly race. Let's be very careful/clear: We aren't saying anyone *should* be held without bond or asserting that people with different demographic variables *should* be more likely to be held, but instead trying to predict whether people with different characteristics *are empirically more likely* to be held without bond, given the available information. This is the first step we would take in investigating whether a system is fair, or how large the disparities are: Does it treat people with similar observable characteristics similarly, or not? We are going to look at a common question: Are Black defendants treated differently from white or Asian ones? (There are Native American defendants, but there are 11 in total, which is such a small number of observations that is difficult to clearly say anything about how this group is treated relative to the others.)\n",
    "\n",
    "The variables in the data are:\n",
    "\n",
    "  - `held_wo_bail`: Whether a defendant is held without bail before trial (Boolean logical)\n",
    "  - `race`, `sex`: Categorical demographic variables\n",
    "  - `is_poor`: Whether the defendant is classified as indigent \n",
    "  - `prior_F`, `prior_M`: The number of prior felony and misdemeanor arrests\n",
    "  - `case_type`: A categorical variable indicating a misdemeanor `M` or felony `F` or infraction `I` or special case `S`\n",
    "  - `age`: Defendant's age\n",
    "  - `bond`, `bond_NA`, `bond_type`: The amount of any bond, whether it is missing, and the type\n",
    "  - `sentence`, `sentence_NA`, `sentence_type`: The length of any sentence, whether it is missing, and the type\n",
    "\n",
    "1. Load the `pretrial_data.csv` data. Notice that there are `nan`s, but the data are relatively clean. Because there are `.nan`s among variables you won't use, you'll want to narrow down your analysis to the relevant variables before dropping or imputing missing values.\n",
    "2. Create a dummy variable indicating that the defendant is Black.\n",
    "3. Regress `held` on `Black`. What is the slope coefficient Interpret the coefficient on the Black dummy variable: How much more likely is a black person to be held without bail? What is the $R^2$ of the model?\n",
    "4. Before doing this question, please think for a few minutes about how to make the process of running the following regressions as efficient as possible, before jumping into writing code. Repeat part 2, for the following specifications, keeping track of the coefficient on the Black dummy variable each time:\n",
    "      - `held` on `Black` and `sex`\n",
    "      - `held` on `Black` and `sex` and `is_poor`\n",
    "      - `held` on `Black` and `sex` and `is_poor` and `prior_F`\n",
    "      - `held` on `Black` and `sex` and `is_poor` and `prior_F` and `case_type`\n",
    "What happens to the coefficient on the Black dummy variable as you include more regressors/features/controls in the regression? Explain your findings.\n",
    "5. Suppose we don't want to see just `Black` and `sex`, but `Black` interacted with `sex`: Are Black men and Black women treated systemically differently from the rest of the population? Implement this in a regression, and explain your findings.\n",
    "6. Imagine someone argued we should use these kinds of models to help a judge or magistrate make bail decisions (you could obviously go back and make this kind of model for the bond and sentence variables, then deploy it on new cases to predict what their bond and sentence values would be). What concerns would you have? Do you think society should be using data-driven and automated tools like that? Explain your concerns clearly."
   ]
  },
  {
   "cell_type": "markdown",
   "id": "d0bedb79-b3d9-4db3-9b30-b92c9b618cec",
   "metadata": {},
   "source": [
    "**Q4.** This is a math question to review the derivation of the OLS estimator (but only if you are into that kind of thing!). We are going to do it slightly differently from what we did in class, though. We will use a linear predictor and minimize the Sum of Squared Errors, just as in class. But, we are going to de-mean $X$ first, creating another variable $z_i = x_i - \\bar{x}$ where \n",
    "$$\n",
    "\\bar{x} = \\dfrac{1}{N} \\sum_{i=1}^N x_i,\n",
    "$$\n",
    "so the model is $\\hat{y}_i = a + b z_i$ and the `SSE` is\n",
    "$$\n",
    "\\text{SSE}(a,b) = \\sum_{i=1}^N (y_i - a - bz_i)^2.\n",
    "$$\n",
    "\n",
    "  1. Take partial derivatives of the `SSE` with respect to $a$ and $b$. You should get\n",
    "\n",
    "\\begin{alignat*}{3}\n",
    "\\sum_{i=1}^N -2(y_i - a- bz_i) &=& 0 \\\\\n",
    "\\sum_{i=1}^N -2(y_i - a - bz_i)z_i &=& 0.\n",
    "\\end{alignat*}\n",
    "\n",
    "  2. Solve for the solutions to the above equations. Big hint: $\\bar{z} = 0$, since we subtracted the mean of $x$ from $x$ to get $z$. You should get\n",
    "\n",
    "\\begin{alignat*}{3}\n",
    "a^* &=& \\bar{y} \\\\\n",
    "b^* &=& \\dfrac{\\sum_{i=1}^N(y_i - \\bar{y})z_i}{\\sum_{i=1}^N z_i^2}.\n",
    "\\end{alignat*}\n",
    "\n",
    "  3. Substitute $z_i = x_i - \\bar{x}$ back into the above equations. You should get\n",
    "  \n",
    "\\begin{alignat*}{3}\n",
    "a^* &=& \\bar{y} \\\\\n",
    "b^* &=& \\dfrac{\\sum_{i=1}^N(y_i - \\bar{y})(x_i-\\bar{x})}{\\sum_{i=1}^N (x_i-\\bar{x})^2},\n",
    "\\end{alignat*}\n",
    "\n",
    "which can be written in terms of sample covariance and sample variance as:\n",
    "\n",
    "\\begin{alignat*}{3}\n",
    "a^* &=& \\bar{y} \\\\\n",
    "b^* &=& \\dfrac{\\text{cov}(x,y)}{\\text{var}(x)}.\n",
    "\\end{alignat*}\n",
    "\n",
    "This is typically the preferred way of expressing the OLS coefficients.\n",
    "\n",
    "4. When will $b^*$ be large or small, depending on the relationship between $x$ and $y$ and the amount of \"noise\"/variance in $x$? What does $a^*$ represent?\n",
    "5. Suppose you have measurement error in $x$ which artificially inflates its variance (e.g. bad data cleaning). What happens to the $b^*$ coefficient? How will affect your ability to predict? (This phenomenon is called **attenuation**.)"
   ]
  },
  {
   "cell_type": "markdown",
   "id": "b67478ac-ad78-4a44-9720-583c71b8da14",
   "metadata": {},
   "source": [
    "**Q5.** \n",
    "1. Find a dataset on a topic you're interested in. Some easy options are data.gov, kaggle.com, and data.world.\n",
    "2. Clean the data and do some exploratory data analysis on key variables that interest you. Pick a particular target/outcome variable and features/predictors.\n",
    "3. Split the sample into an ~80% training set and a ~20% test set.\n",
    "4. Run a few regressions of your target/outcome variable on a variety of features/predictors. Compute the SSE on the test set.\n",
    "5. Which model performed the best, and why?\n",
    "6. What did you learn?"
   ]
  }
 ],
 "metadata": {
  "kernelspec": {
   "display_name": "Python 3 (ipykernel)",
   "language": "python",
   "name": "python3"
  },
  "language_info": {
   "codemirror_mode": {
    "name": "ipython",
    "version": 3
   },
   "file_extension": ".py",
   "mimetype": "text/x-python",
   "name": "python",
   "nbconvert_exporter": "python",
   "pygments_lexer": "ipython3",
   "version": "3.9.18"
  }
 },
 "nbformat": 4,
 "nbformat_minor": 5
}
